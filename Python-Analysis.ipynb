{
 "cells": [
  {
   "cell_type": "code",
   "execution_count": null,
   "id": "d6e64894-1bab-4ceb-bd25-128494e02ad0",
   "metadata": {},
   "outputs": [],
   "source": [
    "!pip install pandas"
   ]
  },
  {
   "cell_type": "code",
   "execution_count": null,
   "id": "45de4f49-6f05-4de6-a8d6-e1797491205a",
   "metadata": {},
   "outputs": [],
   "source": [
    "import pandas as pd\n",
    "import os"
   ]
  },
  {
   "cell_type": "markdown",
   "id": "617b0de4-af3d-4bc4-9907-19e248e1e9d1",
   "metadata": {},
   "source": [
    "## Task #1: Merge 12 months of sale data into single CSV"
   ]
  },
  {
   "cell_type": "code",
   "execution_count": null,
   "id": "68d19c11-4e55-4658-8838-b4728df3df1d",
   "metadata": {},
   "outputs": [],
   "source": [
    "df = pd.read_csv(\"./Sales_Data/Sales_April_2019.csv\")\n",
    "files = [file for file in os.listdir('./Sales_Data')]\n",
    "\n",
    "all_months_data = pd.DataFrame()\n",
    "\n",
    "for file in files:\n",
    "    df = pd.read_csv(\"./Sales_Data/\"+file)\n",
    "    all_months_data = pd.concat([all_months_data, df])\n",
    "\n",
    "all_months_data.to_csv(\"all_data.csv\",index=False)"
   ]
  },
  {
   "cell_type": "markdown",
   "id": "49e1b298-5c17-4339-b97a-e612582a5d68",
   "metadata": {},
   "source": [
    "## Read in updated DataFrame"
   ]
  },
  {
   "cell_type": "code",
   "execution_count": null,
   "id": "47cc5f80-b0bf-473b-bcbd-002bdcb5328e",
   "metadata": {},
   "outputs": [],
   "source": [
    "all_data = pd.read_csv(\"all_data.csv\")\n",
    "all_data.head()"
   ]
  },
  {
   "cell_type": "markdown",
   "id": "0a3c7a57-f9f4-415a-8a4a-8555a3e6f608",
   "metadata": {},
   "source": [
    "### Clean up the data"
   ]
  },
  {
   "cell_type": "markdown",
   "id": "42e2063b-771c-403c-8313-54d698feccdd",
   "metadata": {},
   "source": [
    "#### Drop row's with NaN"
   ]
  },
  {
   "cell_type": "code",
   "execution_count": null,
   "id": "bea2869e-8fa2-403f-987f-7437c6429253",
   "metadata": {},
   "outputs": [],
   "source": [
    "nan_df = all_data[all_data.isna().any(axis=1)]\n",
    "nan_df.head()\n",
    "\n",
    "all_data = all_data.dropna(how = 'all')\n",
    "all_data.head()"
   ]
  },
  {
   "cell_type": "markdown",
   "id": "d0f066bf-2d1c-4362-87b5-6b5dee166df2",
   "metadata": {},
   "source": [
    "### Find 'Or' and delete it"
   ]
  },
  {
   "cell_type": "code",
   "execution_count": null,
   "id": "1edd1f5d-9422-4d9d-ac1a-b8f2a8402f93",
   "metadata": {},
   "outputs": [],
   "source": [
    "all_data = all_data[all_data['Order Date'].str[0:2] != 'Or']"
   ]
  },
  {
   "cell_type": "markdown",
   "id": "1f2dc158-659d-4d92-bde7-d872970e3fa3",
   "metadata": {},
   "source": [
    "### Convert columns to the correct type"
   ]
  },
  {
   "cell_type": "code",
   "execution_count": null,
   "id": "a1890574-e7bb-4eed-9ce1-adcea4844ba3",
   "metadata": {},
   "outputs": [],
   "source": [
    "all_data['Quantity Ordered'] = pd.to_numeric(all_data['Quantity Ordered']) ## Makes int\n",
    "all_data['Price Each'] = pd.to_numeric(all_data['Price Each']) ## Makws Float"
   ]
  },
  {
   "cell_type": "markdown",
   "id": "1ba3384d-e167-4e23-8748-df02ff065c9b",
   "metadata": {},
   "source": [
    "### *Augment data with additional columns*"
   ]
  },
  {
   "cell_type": "markdown",
   "id": "c6f06ac0-f714-482f-8a5c-c8358383f088",
   "metadata": {},
   "source": [
    "### Task 2: Add Month Column"
   ]
  },
  {
   "cell_type": "code",
   "execution_count": null,
   "id": "96770554-4a28-4fd0-810e-a2f5d333ea1c",
   "metadata": {},
   "outputs": [],
   "source": [
    "all_data['Month'] = all_data['Order Date'].str[0:2]\n",
    "all_data['Month'] = all_data['Month'].astype('int32')\n",
    "all_data.head()"
   ]
  },
  {
   "cell_type": "markdown",
   "id": "47531ff8-8bee-4546-a5b6-c70eb03ff568",
   "metadata": {},
   "source": [
    "### Task 3: Add a sales column"
   ]
  },
  {
   "cell_type": "code",
   "execution_count": null,
   "id": "ded65cfd-6274-4c57-9edf-57cdfd88c668",
   "metadata": {},
   "outputs": [],
   "source": [
    "all_data['Sales'] = all_data['Quantity Ordered'] * all_data['Price Each']\n",
    "all_data.head()"
   ]
  },
  {
   "cell_type": "markdown",
   "id": "92e5c9c1-8531-4906-a87f-4b9e45f3e92f",
   "metadata": {},
   "source": [
    "#### Task 4: Add a City column"
   ]
  },
  {
   "cell_type": "code",
   "execution_count": null,
   "id": "ac387497-f442-4b52-ba00-3fbabe93b3b4",
   "metadata": {},
   "outputs": [],
   "source": [
    "def get_city(address):\n",
    "    return address.split(',')[1]\n",
    "\n",
    "def get_state(address):\n",
    "    return address.split(',')[2].split(' ')[1]\n",
    "\n",
    "all_data['City'] = all_data['Purchase Address'].apply(lambda x: f\"{get_city(x)} ({get_state(x)})\")\n",
    "all_data.head()"
   ]
  },
  {
   "cell_type": "markdown",
   "id": "7d7c2862-cb3a-4f5e-987a-f730cf3c1f57",
   "metadata": {},
   "source": [
    "### Q1) What was the best month for sales? How much was earned that month? "
   ]
  },
  {
   "cell_type": "code",
   "execution_count": null,
   "id": "96efcaa6-b75d-47e7-81ed-7e2fccbb1287",
   "metadata": {},
   "outputs": [],
   "source": [
    "results = all_data.groupby('Month').sum()"
   ]
  },
  {
   "cell_type": "code",
   "execution_count": null,
   "id": "5dcf8826-3f2b-468e-899c-7bee1c0292fc",
   "metadata": {},
   "outputs": [],
   "source": [
    "import matplotlib.pyplot as plt"
   ]
  },
  {
   "cell_type": "code",
   "execution_count": null,
   "id": "23492d5e-12d9-4a86-9e33-5724d40d4990",
   "metadata": {},
   "outputs": [],
   "source": [
    "months = range(1,13)\n",
    "plt.bar(months, results['Sales'])\n",
    "plt.xticks(months)\n",
    "plt.ylabel('Sales in USD ($)')\n",
    "plt.xlabel('Month number')\n",
    "plt.show()\n",
    "\n",
    "## December is the best month of sales with whopping $ 4.6M"
   ]
  },
  {
   "cell_type": "markdown",
   "id": "c60ccfb9-56fc-4816-8c9f-9b6fc2f1a187",
   "metadata": {},
   "source": [
    "### Q2) Which City has the highest numbers of sale ? "
   ]
  },
  {
   "cell_type": "code",
   "execution_count": null,
   "id": "3c13753e-e0b5-40ab-b234-c23bac5eee69",
   "metadata": {},
   "outputs": [],
   "source": [
    "results = all_data.groupby('City').sum()\n",
    "results"
   ]
  },
  {
   "cell_type": "code",
   "execution_count": null,
   "id": "adb28339-e1c8-4cf5-bf3f-a3316d4bf2a0",
   "metadata": {},
   "outputs": [],
   "source": [
    "cities = [city for city, df in all_data.groupby('City')]\n",
    "\n",
    "plt.bar(cities, results['Sales'])\n",
    "plt.xticks(cities, rotation='vertical', size=8)\n",
    "plt.ylabel('Sales in USD ($)')\n",
    "plt.xlabel('City Name')\n",
    "plt.show()\n",
    "\n",
    "## San Francisco (CA) has recorded highest number of sales"
   ]
  },
  {
   "cell_type": "markdown",
   "id": "09d27b3b-09d2-44bf-986b-2ff7a8642cac",
   "metadata": {},
   "source": [
    "### Q3) What time should we display advertisement to maximize likelihood of customer's buying products?"
   ]
  },
  {
   "cell_type": "code",
   "execution_count": null,
   "id": "e93b3c20-0d8d-49ce-84af-0ff7d0c1fe7a",
   "metadata": {},
   "outputs": [],
   "source": [
    "all_data['Order Date'] = pd.to_datetime(all_data['Order Date'])\n",
    "all_data['Hour'] = all_data['Order Date'].dt.hour\n",
    "all_data['Minute'] = all_data['Order Date'].dt.minute\n",
    "all_data.head()"
   ]
  },
  {
   "cell_type": "code",
   "execution_count": null,
   "id": "6de12514-ecbf-4a60-bd1c-7e2b1cef1b01",
   "metadata": {},
   "outputs": [],
   "source": [
    "hours = [hour for hour, df in all_data.groupby('Hour')]\n",
    "\n",
    "plt.plot(hours, all_data.groupby(['Hour']).count())\n",
    "plt.xticks(hours)\n",
    "plt.xlabel('Hour')\n",
    "plt.ylabel('Numbers of Orders')\n",
    "plt.grid()\n",
    "plt.show()\n",
    "\n",
    "## I would suggest around 11AM and 7PM"
   ]
  },
  {
   "cell_type": "markdown",
   "id": "eb1b7ba8-779f-470a-b828-f14ce25b7435",
   "metadata": {},
   "source": [
    "### Q4) What products are most often sold together?"
   ]
  },
  {
   "cell_type": "code",
   "execution_count": null,
   "id": "db1a848b-05ad-42dc-9415-a9b0777eac3f",
   "metadata": {},
   "outputs": [],
   "source": [
    "df = all_data[all_data['Order ID'].duplicated(keep=False)]\n",
    "\n",
    "df['Grouped'] = df.groupby('Order ID')['Product'].transform(lambda x: ','.join(x))\n",
    "df2 = df[['Order ID', 'Grouped']].drop_duplicates()"
   ]
  },
  {
   "cell_type": "code",
   "execution_count": null,
   "id": "72ca9cce-2bb1-45d9-913b-5a2b3de54205",
   "metadata": {},
   "outputs": [],
   "source": [
    "# Referenced: https://stackoverflow.com/questions/52195887/counting-unique-pairs-of-numbers-into-a-python-dictionary\n",
    "from itertools import combinations\n",
    "from collections import Counter\n",
    "\n",
    "count = Counter()\n",
    "\n",
    "for row in df2['Grouped']:\n",
    "    row_list = row.split(',')\n",
    "    count.update(Counter(combinations(row_list, 2)))\n",
    "\n",
    "for key,value in count.most_common(10):\n",
    "    print(key, value)\n",
    "\n",
    "### Iphones and lightning cabel are the most sold pair of items."
   ]
  },
  {
   "cell_type": "markdown",
   "id": "3ba4fa32-6f99-45bd-8a53-2bca194f15d3",
   "metadata": {},
   "source": [
    "### Q5) What product sold the most? Why do you think so the most?"
   ]
  },
  {
   "cell_type": "code",
   "execution_count": null,
   "id": "5b517e79-35a9-41da-b294-c70e7ce5b8c6",
   "metadata": {},
   "outputs": [],
   "source": [
    "all_data.head()"
   ]
  },
  {
   "cell_type": "code",
   "execution_count": null,
   "id": "db12e74d-59ba-4517-acb9-7bf491ebfaa1",
   "metadata": {},
   "outputs": [],
   "source": [
    "product_group = all_data.groupby('Product')\n",
    "quantity_ordered = product_group['Quantity Ordered'].sum()\n",
    "\n",
    "products = [product for product, df in product_group]\n",
    "\n",
    "keys = [pair for pair, df in product_group]\n",
    "plt.ylabel('Quantity Ordered')\n",
    "plt.xlabel('Product')\n",
    "plt.bar(keys, quantity_ordered)\n",
    "plt.xticks(keys, rotation='vertical', size=8)\n",
    "plt.show()"
   ]
  },
  {
   "cell_type": "code",
   "execution_count": null,
   "id": "248c25bf-291f-4566-9b06-3ed7d5de6749",
   "metadata": {},
   "outputs": [],
   "source": [
    "all_data.head()"
   ]
  },
  {
   "cell_type": "code",
   "execution_count": null,
   "id": "5aa2e09e-d0e3-4d41-8e5c-c8bee344c4bc",
   "metadata": {},
   "outputs": [],
   "source": [
    "# Referenced: https://stackoverflow.com/questions/14762181/adding-a-y-axis-label-to-secondary-y-axis-in-matplotlib\n",
    "\n",
    "prices = all_data.groupby('Product')['Price Each'].mean()\n",
    "\n",
    "fig, ax1 = plt.subplots()\n",
    "\n",
    "ax2 = ax1.twinx()\n",
    "ax1.bar(keys, quantity_ordered, color='g')\n",
    "ax2.plot(keys, prices, color='b')\n",
    "\n",
    "ax1.set_xlabel('Product Name')\n",
    "ax1.set_ylabel('Quantity Ordered', color='g')\n",
    "ax2.set_ylabel('Price ($)', color='b')\n",
    "ax1.set_xticklabels(keys, rotation='vertical', size=8)\n",
    "\n",
    "plt.show()\n",
    "\n",
    "## Therefore as per graphs we obtained most sold item are AA and AAA batteries, maybe it is because they are cheaper and requires more!"
   ]
  }
 ],
 "metadata": {
  "kernelspec": {
   "display_name": "Python 3 (ipykernel)",
   "language": "python",
   "name": "python3"
  },
  "language_info": {
   "codemirror_mode": {
    "name": "ipython",
    "version": 3
   },
   "file_extension": ".py",
   "mimetype": "text/x-python",
   "name": "python",
   "nbconvert_exporter": "python",
   "pygments_lexer": "ipython3",
   "version": "3.12.4"
  }
 },
 "nbformat": 4,
 "nbformat_minor": 5
}
